{
 "cells": [
  {
   "cell_type": "markdown",
   "id": "9e946081",
   "metadata": {},
   "source": [
    "s = \"this is My First Python programming class and i am learNING python string and its function\" \n",
    "1 . Try to extract data from index one to index 300 with a jump of 3 \n",
    "2. Try to reverse a string without using reverse function\n",
    " 3. Write your own definition of compiler and interpretor without copy paste form internet in your own language \n",
    "4. Python is a interpreted of compiled language give a clear ans with your understanding \n",
    "5 . Try to write a usecase of python with your understanding ."
   ]
  },
  {
   "cell_type": "code",
   "execution_count": 1,
   "id": "4c2395b8",
   "metadata": {},
   "outputs": [],
   "source": [
    "s = \"this is My First Python programming class and i am learNING python string and its function\" "
   ]
  },
  {
   "cell_type": "markdown",
   "id": "c8a07ddf",
   "metadata": {},
   "source": [
    "1 . Try to extract data from index one to index 300 with a jump of 3 "
   ]
  },
  {
   "cell_type": "code",
   "execution_count": 2,
   "id": "e98e34f4",
   "metadata": {},
   "outputs": [
    {
     "data": {
      "text/plain": [
       "'h   r tnrrmglsnimeNGyosi dtfco'"
      ]
     },
     "execution_count": 2,
     "metadata": {},
     "output_type": "execute_result"
    }
   ],
   "source": [
    "s[1:300:3]"
   ]
  },
  {
   "cell_type": "markdown",
   "id": "b62f2f35",
   "metadata": {},
   "source": [
    "Try to reverse a string without using reverse function"
   ]
  },
  {
   "cell_type": "code",
   "execution_count": 4,
   "id": "e9edb311",
   "metadata": {},
   "outputs": [
    {
     "data": {
      "text/plain": [
       "'noitcnuf sti dna gnirts nohtyp GNINrael ma i dna ssalc gnimmargorp nohtyP tsriF yM si siht'"
      ]
     },
     "execution_count": 4,
     "metadata": {},
     "output_type": "execute_result"
    }
   ],
   "source": [
    "s[::-1]\n"
   ]
  },
  {
   "cell_type": "markdown",
   "id": "db8f5f1f",
   "metadata": {},
   "source": [
    "Write your own definition of compiler and interpretor without copy paste form internet in your own language "
   ]
  },
  {
   "cell_type": "code",
   "execution_count": 6,
   "id": "33b13348",
   "metadata": {},
   "outputs": [],
   "source": [
    "s = 'Amaan'"
   ]
  },
  {
   "cell_type": "code",
   "execution_count": 7,
   "id": "592b6e5c",
   "metadata": {},
   "outputs": [
    {
     "data": {
      "text/plain": [
       "'Amaan'"
      ]
     },
     "execution_count": 7,
     "metadata": {},
     "output_type": "execute_result"
    }
   ],
   "source": [
    "s"
   ]
  },
  {
   "cell_type": "code",
   "execution_count": 8,
   "id": "b607666a",
   "metadata": {},
   "outputs": [
    {
     "data": {
      "text/plain": [
       "'n'"
      ]
     },
     "execution_count": 8,
     "metadata": {},
     "output_type": "execute_result"
    }
   ],
   "source": [
    "s[4]"
   ]
  },
  {
   "cell_type": "code",
   "execution_count": 9,
   "id": "1a491ac7",
   "metadata": {},
   "outputs": [
    {
     "ename": "IndexError",
     "evalue": "string index out of range",
     "output_type": "error",
     "traceback": [
      "\u001b[0;31m---------------------------------------------------------------------------\u001b[0m",
      "\u001b[0;31mIndexError\u001b[0m                                Traceback (most recent call last)",
      "Input \u001b[0;32mIn [9]\u001b[0m, in \u001b[0;36m<cell line: 1>\u001b[0;34m()\u001b[0m\n\u001b[0;32m----> 1\u001b[0m \u001b[43ms\u001b[49m\u001b[43m[\u001b[49m\u001b[38;5;241;43m8\u001b[39;49m\u001b[43m]\u001b[49m\n",
      "\u001b[0;31mIndexError\u001b[0m: string index out of range"
     ]
    }
   ],
   "source": [
    "s[8]"
   ]
  },
  {
   "cell_type": "code",
   "execution_count": 10,
   "id": "dc4c0517",
   "metadata": {},
   "outputs": [
    {
     "data": {
      "text/plain": [
       "'a'"
      ]
     },
     "execution_count": 10,
     "metadata": {},
     "output_type": "execute_result"
    }
   ],
   "source": [
    "s[-2]"
   ]
  },
  {
   "cell_type": "code",
   "execution_count": 11,
   "id": "28e7546c",
   "metadata": {},
   "outputs": [
    {
     "data": {
      "text/plain": [
       "'n'"
      ]
     },
     "execution_count": 11,
     "metadata": {},
     "output_type": "execute_result"
    }
   ],
   "source": [
    "s[-1]"
   ]
  },
  {
   "cell_type": "code",
   "execution_count": 12,
   "id": "e4a8c480",
   "metadata": {},
   "outputs": [
    {
     "ename": "TypeError",
     "evalue": "can only concatenate str (not \"int\") to str",
     "output_type": "error",
     "traceback": [
      "\u001b[0;31m---------------------------------------------------------------------------\u001b[0m",
      "\u001b[0;31mTypeError\u001b[0m                                 Traceback (most recent call last)",
      "Input \u001b[0;32mIn [12]\u001b[0m, in \u001b[0;36m<cell line: 1>\u001b[0;34m()\u001b[0m\n\u001b[0;32m----> 1\u001b[0m \u001b[43ms\u001b[49m\u001b[38;5;241;43m+\u001b[39;49m\u001b[38;5;241;43m1\u001b[39;49m\n",
      "\u001b[0;31mTypeError\u001b[0m: can only concatenate str (not \"int\") to str"
     ]
    }
   ],
   "source": [
    "s+1"
   ]
  },
  {
   "cell_type": "code",
   "execution_count": 13,
   "id": "bfaad536",
   "metadata": {},
   "outputs": [
    {
     "data": {
      "text/plain": [
       "'Amaan1'"
      ]
     },
     "execution_count": 13,
     "metadata": {},
     "output_type": "execute_result"
    }
   ],
   "source": [
    "s+\"1\""
   ]
  },
  {
   "cell_type": "code",
   "execution_count": 14,
   "id": "ca3d8cf4",
   "metadata": {},
   "outputs": [
    {
     "data": {
      "text/plain": [
       "'AmaanHussain'"
      ]
     },
     "execution_count": 14,
     "metadata": {},
     "output_type": "execute_result"
    }
   ],
   "source": [
    "\"Amaan\"+\"Hussain\""
   ]
  },
  {
   "cell_type": "code",
   "execution_count": 16,
   "id": "0e86517b",
   "metadata": {},
   "outputs": [
    {
     "data": {
      "text/plain": [
       "'Amaan Hussain'"
      ]
     },
     "execution_count": 16,
     "metadata": {},
     "output_type": "execute_result"
    }
   ],
   "source": [
    "\"Amaan\"+ \" \"+\"Hussain\""
   ]
  },
  {
   "cell_type": "code",
   "execution_count": 17,
   "id": "8b68ca7f",
   "metadata": {},
   "outputs": [
    {
     "data": {
      "text/plain": [
       "'AmaanAmaan'"
      ]
     },
     "execution_count": 17,
     "metadata": {},
     "output_type": "execute_result"
    }
   ],
   "source": [
    "s*2"
   ]
  },
  {
   "cell_type": "code",
   "execution_count": 18,
   "id": "948a2e87",
   "metadata": {},
   "outputs": [
    {
     "ename": "TypeError",
     "evalue": "can only concatenate str (not \"int\") to str",
     "output_type": "error",
     "traceback": [
      "\u001b[0;31m---------------------------------------------------------------------------\u001b[0m",
      "\u001b[0;31mTypeError\u001b[0m                                 Traceback (most recent call last)",
      "Input \u001b[0;32mIn [18]\u001b[0m, in \u001b[0;36m<cell line: 1>\u001b[0;34m()\u001b[0m\n\u001b[0;32m----> 1\u001b[0m \u001b[43ms\u001b[49m\u001b[38;5;241;43m+\u001b[39;49m\u001b[38;5;241;43m1\u001b[39;49m\n",
      "\u001b[0;31mTypeError\u001b[0m: can only concatenate str (not \"int\") to str"
     ]
    }
   ],
   "source": [
    "s+1"
   ]
  },
  {
   "cell_type": "code",
   "execution_count": 19,
   "id": "7b640158",
   "metadata": {},
   "outputs": [
    {
     "data": {
      "text/plain": [
       "'Amaan1'"
      ]
     },
     "execution_count": 19,
     "metadata": {},
     "output_type": "execute_result"
    }
   ],
   "source": [
    "s+\"1\""
   ]
  },
  {
   "cell_type": "code",
   "execution_count": 20,
   "id": "7329a63e",
   "metadata": {},
   "outputs": [
    {
     "data": {
      "text/plain": [
       "'AmaanAmaan'"
      ]
     },
     "execution_count": 20,
     "metadata": {},
     "output_type": "execute_result"
    }
   ],
   "source": [
    "s+s"
   ]
  },
  {
   "cell_type": "code",
   "execution_count": 21,
   "id": "97bb7e22",
   "metadata": {},
   "outputs": [
    {
     "data": {
      "text/plain": [
       "'Amaan1'"
      ]
     },
     "execution_count": 21,
     "metadata": {},
     "output_type": "execute_result"
    }
   ],
   "source": [
    "s+str(1)"
   ]
  },
  {
   "cell_type": "code",
   "execution_count": 22,
   "id": "cf47b034",
   "metadata": {},
   "outputs": [],
   "source": [
    "s1 = \"Haritha\""
   ]
  },
  {
   "cell_type": "code",
   "execution_count": 23,
   "id": "000eef8a",
   "metadata": {},
   "outputs": [
    {
     "data": {
      "text/plain": [
       "'Haritha'"
      ]
     },
     "execution_count": 23,
     "metadata": {},
     "output_type": "execute_result"
    }
   ],
   "source": [
    "s1"
   ]
  },
  {
   "cell_type": "code",
   "execution_count": 24,
   "id": "e542ab0e",
   "metadata": {},
   "outputs": [
    {
     "data": {
      "text/plain": [
       "'Hrt'"
      ]
     },
     "execution_count": 24,
     "metadata": {},
     "output_type": "execute_result"
    }
   ],
   "source": [
    "s1[0:6:2]"
   ]
  },
  {
   "cell_type": "code",
   "execution_count": 25,
   "id": "7d052ba6",
   "metadata": {},
   "outputs": [
    {
     "data": {
      "text/plain": [
       "''"
      ]
     },
     "execution_count": 25,
     "metadata": {},
     "output_type": "execute_result"
    }
   ],
   "source": [
    "s1[7:-1:-2]"
   ]
  },
  {
   "cell_type": "code",
   "execution_count": 26,
   "id": "068543f8",
   "metadata": {},
   "outputs": [
    {
     "data": {
      "text/plain": [
       "''"
      ]
     },
     "execution_count": 26,
     "metadata": {},
     "output_type": "execute_result"
    }
   ],
   "source": [
    "s1[-50:2:-2]"
   ]
  },
  {
   "cell_type": "code",
   "execution_count": 27,
   "id": "819b848d",
   "metadata": {},
   "outputs": [
    {
     "data": {
      "text/plain": [
       "7"
      ]
     },
     "execution_count": 27,
     "metadata": {},
     "output_type": "execute_result"
    }
   ],
   "source": [
    "len(s1)"
   ]
  },
  {
   "cell_type": "code",
   "execution_count": 30,
   "id": "24fad632",
   "metadata": {},
   "outputs": [
    {
     "data": {
      "text/plain": [
       "2"
      ]
     },
     "execution_count": 30,
     "metadata": {},
     "output_type": "execute_result"
    }
   ],
   "source": [
    "s1.count(\"a\")"
   ]
  },
  {
   "cell_type": "code",
   "execution_count": 32,
   "id": "fb303ef8",
   "metadata": {},
   "outputs": [
    {
     "data": {
      "text/plain": [
       "1"
      ]
     },
     "execution_count": 32,
     "metadata": {},
     "output_type": "execute_result"
    }
   ],
   "source": [
    "s1.count(\"H\")"
   ]
  },
  {
   "cell_type": "code",
   "execution_count": 33,
   "id": "545c6c46",
   "metadata": {},
   "outputs": [
    {
     "data": {
      "text/plain": [
       "'Haritha'"
      ]
     },
     "execution_count": 33,
     "metadata": {},
     "output_type": "execute_result"
    }
   ],
   "source": [
    "s1"
   ]
  },
  {
   "cell_type": "code",
   "execution_count": 34,
   "id": "e6a20265",
   "metadata": {},
   "outputs": [
    {
     "data": {
      "text/plain": [
       "['H', 'rith', '']"
      ]
     },
     "execution_count": 34,
     "metadata": {},
     "output_type": "execute_result"
    }
   ],
   "source": [
    "s1.split(\"a\")"
   ]
  },
  {
   "cell_type": "code",
   "execution_count": 35,
   "id": "da6b437c",
   "metadata": {},
   "outputs": [
    {
     "data": {
      "text/plain": [
       "'HARITHA'"
      ]
     },
     "execution_count": 35,
     "metadata": {},
     "output_type": "execute_result"
    }
   ],
   "source": [
    "s1.upper()"
   ]
  },
  {
   "cell_type": "code",
   "execution_count": 36,
   "id": "39bf2147",
   "metadata": {},
   "outputs": [
    {
     "data": {
      "text/plain": [
       "'haritha'"
      ]
     },
     "execution_count": 36,
     "metadata": {},
     "output_type": "execute_result"
    }
   ],
   "source": [
    "s1.lower()"
   ]
  },
  {
   "cell_type": "code",
   "execution_count": 38,
   "id": "6c3c6c5d",
   "metadata": {},
   "outputs": [],
   "source": [
    "s2 = \"jayasree cjalla\""
   ]
  },
  {
   "cell_type": "code",
   "execution_count": 39,
   "id": "cde88674",
   "metadata": {},
   "outputs": [
    {
     "data": {
      "text/plain": [
       "'Jayasree Cjalla'"
      ]
     },
     "execution_count": 39,
     "metadata": {},
     "output_type": "execute_result"
    }
   ],
   "source": [
    "s2.title()"
   ]
  },
  {
   "cell_type": "code",
   "execution_count": 40,
   "id": "b0f52d51",
   "metadata": {},
   "outputs": [
    {
     "data": {
      "text/plain": [
       "'Jayasree cjalla'"
      ]
     },
     "execution_count": 40,
     "metadata": {},
     "output_type": "execute_result"
    }
   ],
   "source": [
    "s2.capitalize()"
   ]
  },
  {
   "cell_type": "code",
   "execution_count": 41,
   "id": "84afda56",
   "metadata": {},
   "outputs": [],
   "source": [
    "s3 = \"BharGAV\""
   ]
  },
  {
   "cell_type": "code",
   "execution_count": 42,
   "id": "40850442",
   "metadata": {},
   "outputs": [
    {
     "data": {
      "text/plain": [
       "'bHARgav'"
      ]
     },
     "execution_count": 42,
     "metadata": {},
     "output_type": "execute_result"
    }
   ],
   "source": [
    "s3.swapcase()"
   ]
  },
  {
   "cell_type": "code",
   "execution_count": 43,
   "id": "7b87d463",
   "metadata": {},
   "outputs": [],
   "source": [
    "s4 = \"    Shahaazad Ahmed    \""
   ]
  },
  {
   "cell_type": "code",
   "execution_count": 44,
   "id": "bcf2d74e",
   "metadata": {},
   "outputs": [
    {
     "data": {
      "text/plain": [
       "'Shahaazad Ahmed'"
      ]
     },
     "execution_count": 44,
     "metadata": {},
     "output_type": "execute_result"
    }
   ],
   "source": [
    "s4.strip()"
   ]
  },
  {
   "cell_type": "code",
   "execution_count": 45,
   "id": "d25081f6",
   "metadata": {},
   "outputs": [
    {
     "data": {
      "text/plain": [
       "'Shahaazad Ahmed    '"
      ]
     },
     "execution_count": 45,
     "metadata": {},
     "output_type": "execute_result"
    }
   ],
   "source": [
    "s4.lstrip()"
   ]
  },
  {
   "cell_type": "code",
   "execution_count": 46,
   "id": "dcb964c4",
   "metadata": {},
   "outputs": [
    {
     "data": {
      "text/plain": [
       "'    Shahaazad Ahmed'"
      ]
     },
     "execution_count": 46,
     "metadata": {},
     "output_type": "execute_result"
    }
   ],
   "source": [
    "s4.rstrip()"
   ]
  },
  {
   "cell_type": "code",
   "execution_count": 47,
   "id": "339c16e8",
   "metadata": {},
   "outputs": [
    {
     "data": {
      "text/plain": [
       "'###    Shahaazad Ahmed    ####'"
      ]
     },
     "execution_count": 47,
     "metadata": {},
     "output_type": "execute_result"
    }
   ],
   "source": [
    "s4.center(30,\"#\")"
   ]
  },
  {
   "cell_type": "code",
   "execution_count": 48,
   "id": "ed21f3fc",
   "metadata": {},
   "outputs": [],
   "source": [
    "s5 = \"Ram\""
   ]
  },
  {
   "cell_type": "code",
   "execution_count": 49,
   "id": "9db74dd2",
   "metadata": {},
   "outputs": [
    {
     "data": {
      "text/plain": [
       "'********Ram*********'"
      ]
     },
     "execution_count": 49,
     "metadata": {},
     "output_type": "execute_result"
    }
   ],
   "source": [
    "s5.center(20,\"*\")"
   ]
  },
  {
   "cell_type": "code",
   "execution_count": 50,
   "id": "80b4285d",
   "metadata": {},
   "outputs": [],
   "source": [
    "s6 = \"Sreekar Satya\""
   ]
  },
  {
   "cell_type": "code",
   "execution_count": 51,
   "id": "f04119aa",
   "metadata": {},
   "outputs": [
    {
     "data": {
      "text/plain": [
       "'###Sreekar Satya####'"
      ]
     },
     "execution_count": 51,
     "metadata": {},
     "output_type": "execute_result"
    }
   ],
   "source": [
    "s6.center(20,\"#\")"
   ]
  },
  {
   "cell_type": "code",
   "execution_count": 52,
   "id": "4a126142",
   "metadata": {},
   "outputs": [
    {
     "data": {
      "text/plain": [
       "'*'"
      ]
     },
     "execution_count": 52,
     "metadata": {},
     "output_type": "execute_result"
    }
   ],
   "source": [
    "s6.join(\"*\")"
   ]
  },
  {
   "cell_type": "code",
   "execution_count": 53,
   "id": "710bf408",
   "metadata": {},
   "outputs": [
    {
     "data": {
      "text/plain": [
       "'Sreekar Satya'"
      ]
     },
     "execution_count": 53,
     "metadata": {},
     "output_type": "execute_result"
    }
   ],
   "source": [
    "s6"
   ]
  },
  {
   "cell_type": "code",
   "execution_count": 54,
   "id": "d72ef475",
   "metadata": {},
   "outputs": [
    {
     "data": {
      "text/plain": [
       "'S*r*e*e*k*a*r* *S*a*t*y*a'"
      ]
     },
     "execution_count": 54,
     "metadata": {},
     "output_type": "execute_result"
    }
   ],
   "source": [
    "\"*\".join(s6)"
   ]
  },
  {
   "cell_type": "code",
   "execution_count": null,
   "id": "76439738",
   "metadata": {},
   "outputs": [],
   "source": []
  }
 ],
 "metadata": {
  "kernelspec": {
   "display_name": "Python 3 (ipykernel)",
   "language": "python",
   "name": "python3"
  },
  "language_info": {
   "codemirror_mode": {
    "name": "ipython",
    "version": 3
   },
   "file_extension": ".py",
   "mimetype": "text/x-python",
   "name": "python",
   "nbconvert_exporter": "python",
   "pygments_lexer": "ipython3",
   "version": "3.9.12"
  }
 },
 "nbformat": 4,
 "nbformat_minor": 5
}
